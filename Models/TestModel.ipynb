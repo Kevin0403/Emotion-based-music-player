{
 "cells": [
  {
   "cell_type": "code",
   "execution_count": 1,
   "metadata": {},
   "outputs": [],
   "source": [
    "import cv2\n",
    "\n",
    "# Open the camera\n",
    "cap = cv2.VideoCapture(0)\n",
    "\n",
    "# Capture one frame\n",
    "ret, frame = cap.read()\n",
    "\n",
    "# Save the captured image\n",
    "cv2.imwrite(\"captured_image.jpg\", frame)\n",
    "\n",
    "# Release the camera\n",
    "cap.release()"
   ]
  },
  {
   "cell_type": "code",
   "execution_count": null,
   "metadata": {},
   "outputs": [],
   "source": [
    "from tensorflow.keras.preprocessing.image import load_img, img_to_array\n",
    "import numpy as np\n",
    "import matplotlib.pyplot as plt\n",
    "\n",
    "# Path to the uploaded image\n",
    "image_path = './download.jpeg'\n",
    "\n",
    "# Load and preprocess the image\n",
    "image = load_img(image_path, target_size=(224, 224))  # Adjust to match your model's input size\n",
    "image_array = img_to_array(image)\n",
    "\n",
    "# Rescale the image (if required by your model)\n",
    "image_array = image_array / 255.0\n",
    "\n",
    "# Add batch dimension (1, height, width, channels)\n",
    "image_array = np.expand_dims(image_array, axis=0)\n",
    "\n",
    "# Visualize the image\n",
    "plt.imshow(image)\n",
    "plt.axis('off')\n",
    "plt.show()\n"
   ]
  },
  {
   "cell_type": "code",
   "execution_count": null,
   "metadata": {},
   "outputs": [],
   "source": [
    "# Load the saved model\n",
    "from tensorflow.keras.models import load_model\n",
    "\n",
    "# Load the entire model (including weights)\n",
    "model = load_model('mobilenet_emotion_model.h5')\n",
    "model.load_weights('mobilenet_emotion_model.weights.h5')\n",
    "\n",
    "# Predict on the preprocessed image\n",
    "predictions = model.predict(image_array)\n",
    "\n",
    "# Assuming this is a classification problem, get the predicted class\n",
    "predicted_class = np.argmax(predictions[0])\n",
    "\n",
    "# Map the class index to the actual emotion (assuming you know the class labels)\n",
    "class_labels = ['Angry','Disgust', 'Fear', 'Happy', 'Neutral', 'Sad', 'Surprice']  # Replace with actual labels\n",
    "predicted_emotion = class_labels[predicted_class]\n",
    "\n",
    "print(f\"Predicted emotion: {predicted_emotion}\")\n"
   ]
  },
  {
   "cell_type": "code",
   "execution_count": null,
   "metadata": {},
   "outputs": [],
   "source": [
    "# # Load the saved model\n",
    "# from tensorflow.keras.models import load_model\n",
    "\n",
    "# # Load the entire model (including weights)\n",
    "# model = load_model('vgg16_emotion_model.h5')\n",
    "# model.load_weights('vgg16_emotion_model.weights.h5')\n",
    "\n",
    "# # Predict on the preprocessed image\n",
    "# predictions = model.predict(image_array)\n",
    "\n",
    "# # Assuming this is a classification problem, get the predicted class\n",
    "# predicted_class = np.argmax(predictions[0])\n",
    "\n",
    "# # Map the class index to the actual emotion (assuming you know the class labels)\n",
    "# class_labels = ['Angry','Disgust', 'Fear', 'Happy', 'Neutral', 'Sad', 'Surprice']  # Replace with actual labels\n",
    "# predicted_emotion = class_labels[predicted_class]\n",
    "\n",
    "# print(f\"Predicted emotion: {predicted_emotion}\")\n"
   ]
  }
 ],
 "metadata": {
  "kernelspec": {
   "display_name": "myenv",
   "language": "python",
   "name": "python3"
  },
  "language_info": {
   "codemirror_mode": {
    "name": "ipython",
    "version": 3
   },
   "file_extension": ".py",
   "mimetype": "text/x-python",
   "name": "python",
   "nbconvert_exporter": "python",
   "pygments_lexer": "ipython3",
   "version": "3.12.3"
  }
 },
 "nbformat": 4,
 "nbformat_minor": 2
}
